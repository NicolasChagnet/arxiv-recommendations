{
 "cells": [
  {
   "cell_type": "code",
   "execution_count": 19,
   "metadata": {},
   "outputs": [],
   "source": [
    "import pandas as pd\n",
    "import numpy as np\n",
    "import sklearn\n",
    "import seaborn as sns\n",
    "from matplotlib import pyplot as plt\n",
    "\n",
    "# Import the algorithms and metrics\n",
    "\n",
    "from sklearn.neighbors import KNeighborsClassifier\n",
    "from sklearn.linear_model import LogisticRegression\n",
    "from sklearn.ensemble import RandomForestClassifier\n",
    "from sklearn.naive_bayes import GaussianNB\n",
    "\n",
    "from sklearn.model_selection import train_test_split\n",
    "\n",
    "from sklearn.metrics import (\n",
    "    confusion_matrix,\n",
    "    classification_report,\n",
    "    f1_score,\n",
    "    accuracy_score,\n",
    ")\n",
    "\n",
    "from utilities import get_arxiv_articles"
   ]
  },
  {
   "cell_type": "code",
   "execution_count": 20,
   "metadata": {},
   "outputs": [
    {
     "data": {
      "text/plain": [
       "Index(['Ind', 'authors', 'title', 'year', 'is_cited_own_paper',\n",
       "       'is_of_interest'],\n",
       "      dtype='object')"
      ]
     },
     "execution_count": 20,
     "metadata": {},
     "output_type": "execute_result"
    }
   ],
   "source": [
    "# We import the data\n",
    "all_df = pd.read_csv(\"data/zotero_data.csv\")\n",
    "all_df.columns"
   ]
  },
  {
   "cell_type": "markdown",
   "metadata": {},
   "source": [
    "First we compare the year-on-year distribution of interesting and random papers. The papers I use and cite all crowd towards the late 2010s or early 2020s. This matches research either published since the start of my career or research most relevant to my own."
   ]
  },
  {
   "cell_type": "code",
   "execution_count": 21,
   "metadata": {},
   "outputs": [
    {
     "data": {
      "text/plain": [
       "<Axes: xlabel='year', ylabel='Count'>"
      ]
     },
     "execution_count": 21,
     "metadata": {},
     "output_type": "execute_result"
    },
    {
     "data": {
      "image/png": "[encoded data removed]",
      "text/plain": [
       "<Figure size 640x480 with 1 Axes>"
      ]
     },
     "metadata": {},
     "output_type": "display_data"
    }
   ],
   "source": [
    "sns.histplot(\n",
    "    data=all_df, x=\"year\", multiple=\"dodge\", hue=\"is_of_interest\", binrange=(2000, 2024)\n",
    ")"
   ]
  },
  {
   "cell_type": "markdown",
   "metadata": {},
   "source": [
    "Now we will use this dataset containing both papers reflecting my interests and random papers. In this first attempt we only use the titles as feature which we first vectorize using Term Frequency–Inverse Document Frequency."
   ]
  },
  {
   "cell_type": "code",
   "execution_count": 22,
   "metadata": {},
   "outputs": [],
   "source": [
    "from sklearn.feature_extraction.text import TfidfVectorizer\n",
    "\n",
    "all_titles = list(all_df[\"title\"])\n",
    "vectorizer = TfidfVectorizer()\n",
    "X = vectorizer.fit_transform(all_df[\"title\"])  # Build vocabulary from all the titles\n",
    "y = all_df[\"is_of_interest\"]"
   ]
  },
  {
   "cell_type": "markdown",
   "metadata": {},
   "source": [
    "We first separate our dataset into a training dataset and a test dataset. We will compare three methods here: KNeighbors Classifier, Logistic Regression and Random Forest Classifier. We will evaluate these methods with both F1 metric and simple accuracy metric."
   ]
  },
  {
   "cell_type": "code",
   "execution_count": 23,
   "metadata": {},
   "outputs": [
    {
     "name": "stdout",
     "output_type": "stream",
     "text": [
      "Model kNN: f1 is 0.7578147175702525 and accuracy is 0.7620041753653445\n",
      "Model log_reg: f1 is 0.8115096715519956 and accuracy is 0.8121085594989561\n",
      "Model forest: f1 is 0.7814320814320814 and accuracy is 0.7828810020876826\n"
     ]
    }
   ],
   "source": [
    "X_train, X_test, y_train, y_test = train_test_split(\n",
    "    X, y, test_size=0.33, random_state=5\n",
    ")\n",
    "\n",
    "names = [\n",
    "    \"kNN\",\n",
    "    \"log_reg\",\n",
    "    # \"bayes\",\n",
    "    \"forest\",\n",
    "]\n",
    "methods = [\n",
    "    KNeighborsClassifier(),\n",
    "    LogisticRegression(),\n",
    "    # GaussianNB(),\n",
    "    RandomForestClassifier(),\n",
    "]\n",
    "\n",
    "\n",
    "def compare_model(name, model):\n",
    "    pred = model.fit(X_train, y_train)\n",
    "    pred_result = pred.predict(X_test)\n",
    "    f1 = f1_score(y_test, pred_result, average=\"macro\")\n",
    "    acc = accuracy_score(y_test, pred_result)\n",
    "    return {\"name\": name, \"f1\": f1, \"acc\": acc, \"pred\": pred}\n",
    "\n",
    "\n",
    "comparison = [compare_model(*args) for args in zip(names, methods)]\n",
    "for c in comparison:\n",
    "    print(f\"Model {c['name']}: f1 is {c['f1']} and accuracy is {c['acc']}\")"
   ]
  },
  {
   "cell_type": "markdown",
   "metadata": {},
   "source": [
    "We see all methods are quite good but with roughly equivalent results, around 80% of correctness. Since the logistic regression method is slightly above the two others, we will focus on it."
   ]
  },
  {
   "cell_type": "code",
   "execution_count": 24,
   "metadata": {},
   "outputs": [],
   "source": [
    "pred_log = comparison[1][\"pred\"]"
   ]
  },
  {
   "cell_type": "markdown",
   "metadata": {},
   "source": [
    "Let us start with some random recent hep-th papers, see whether the quantitative agreement measured by those metrics actually translate into a qualitative (subjective) agreement."
   ]
  },
  {
   "cell_type": "code",
   "execution_count": 25,
   "metadata": {},
   "outputs": [
    {
     "data": {
      "text/plain": [
       "['Renormalization of spin-one asymptotic charges in AdS$_D$',\n",
       " 'Tunneling to Holographic Traversable Wormholes',\n",
       " 'Supersymmetric Cardy Formula and the Weak Gravity Conjecture in AdS/CFT',\n",
       " 'Dense Geodesics, Tower Alignment, and the Sharpened Distance Conjecture',\n",
       " 'AdS$_3$ Pure Gravity and Stringy Unitarity',\n",
       " 'Long-term Oscillations and Universal Behavior in Pulsed Electric Fields',\n",
       " 'String Field Theory',\n",
       " 'Prescriptive Unitarity from Positive Geometries',\n",
       " 'What can be measured asymptotically?',\n",
       " 'The Signum-Gordon shock waves in 2+1 and 3+1 dimensions']"
      ]
     },
     "metadata": {},
     "output_type": "display_data"
    }
   ],
   "source": [
    "# rnd_sample_hepth = get_arxiv_articles(\"hep-th\", 8, 2023)\n",
    "# rnd_titles = [x[\"title\"].replace(\"\\n\", \"\") for x in rnd_sample]\n",
    "# Hard-coded result for reproducibility\n",
    "rnd_titles_hepth = [\n",
    "    \"Renormalization of spin-one asymptotic charges in AdS$_D$\",\n",
    "    \"Tunneling to Holographic Traversable Wormholes\",\n",
    "    \"Supersymmetric Cardy Formula and the Weak Gravity Conjecture in AdS/CFT\",\n",
    "    \"Dense Geodesics, Tower Alignment, and the Sharpened Distance Conjecture\",\n",
    "    \"AdS$_3$ Pure Gravity and Stringy Unitarity\",\n",
    "    \"Long-term Oscillations and Universal Behavior in Pulsed Electric Fields\",\n",
    "    \"String Field Theory\",\n",
    "    \"Prescriptive Unitarity from Positive Geometries\",\n",
    "    \"What can be measured asymptotically?\",\n",
    "    \"The Signum-Gordon shock waves in 2+1 and 3+1 dimensions\",\n",
    "]\n",
    "display(rnd_titles_hepth)\n",
    "\n",
    "rnd_titles_hepth_subjective = [\n",
    "    True,\n",
    "    True,\n",
    "    True,\n",
    "    False,\n",
    "    False,\n",
    "    False,\n",
    "    True,\n",
    "    False,\n",
    "    True,\n",
    "    False,\n",
    "]"
   ]
  },
  {
   "cell_type": "markdown",
   "metadata": {},
   "source": [
    "We now run the vectorizer and Logistic Regression prediction on this set. We then compare it to the subjective assessment. Over this tiny sample, the success rate is only 60% but this is not surprising. The possible reasons for lack of accuracy are the following:\n",
    "\n",
    "1. This is a small sample, our metrics were only around 85% so 60% is not that far off on a small sample.\n",
    "2. The dataset is a bit skewed: the training and test data for the `is_of_interest` negative case is random papers not in my library. This of course does not account for lack of accurage of my library: there can be many many papers in this category which could or should have been in my library."
   ]
  },
  {
   "cell_type": "code",
   "execution_count": 26,
   "metadata": {},
   "outputs": [
    {
     "data": {
      "text/plain": [
       "array([False,  True, False, False, False, False,  True,  True, False,\n",
       "       False])"
      ]
     },
     "metadata": {},
     "output_type": "display_data"
    },
    {
     "data": {
      "text/plain": [
       "0.6"
      ]
     },
     "execution_count": 26,
     "metadata": {},
     "output_type": "execute_result"
    }
   ],
   "source": [
    "rnd_titles_hepth_tfidf = vectorizer.transform(rnd_titles_hepth)\n",
    "rnd_titles_hepth_pred = pred_log.predict(rnd_titles_hepth_tfidf)\n",
    "display(rnd_titles_hepth_pred)\n",
    "\n",
    "[x[0] == x[1] for x in zip(rnd_titles_hepth_subjective, rnd_titles_hepth_pred)].count(\n",
    "    True\n",
    ") / len(rnd_titles_hepth)"
   ]
  },
  {
   "cell_type": "markdown",
   "metadata": {},
   "source": [
    "Now we made a copy of the dataset and manually edited the random entries to mark them as `is_of_interest` if they would have made the to_read list. Let us see if this improves the results."
   ]
  },
  {
   "cell_type": "code",
   "execution_count": 28,
   "metadata": {},
   "outputs": [
    {
     "data": {
      "text/plain": [
       "Index(['Ind', 'authors', 'title', 'year', 'is_cited_own_paper',\n",
       "       'is_of_interest'],\n",
       "      dtype='object')"
      ]
     },
     "execution_count": 28,
     "metadata": {},
     "output_type": "execute_result"
    }
   ],
   "source": [
    "# We import the data\n",
    "edited_df = pd.read_csv(\"data/zotero_data_edited.csv\")\n",
    "edited_df.columns"
   ]
  },
  {
   "cell_type": "code",
   "execution_count": 33,
   "metadata": {},
   "outputs": [],
   "source": [
    "y_edited = edited_df[\"is_of_interest\"]"
   ]
  },
  {
   "cell_type": "code",
   "execution_count": 34,
   "metadata": {},
   "outputs": [
    {
     "name": "stdout",
     "output_type": "stream",
     "text": [
      "Model kNN: f1 is 0.7451099122903593 and accuracy is 0.7578288100208769\n",
      "Model log_reg: f1 is 0.846733437068531 and accuracy is 0.8475991649269311\n",
      "Model forest: f1 is 0.8052717854566913 and accuracy is 0.8058455114822547\n"
     ]
    }
   ],
   "source": [
    "X_train, X_test, y_edited_train, y_edited_test = train_test_split(\n",
    "    X, y_edited, test_size=0.33, random_state=5\n",
    ")\n",
    "\n",
    "\n",
    "def compare_model_edited(name, model):\n",
    "    pred = model.fit(X_train, y_edited_train)\n",
    "    pred_result = pred.predict(X_test)\n",
    "    f1 = f1_score(y_edited_test, pred_result, average=\"macro\")\n",
    "    acc = accuracy_score(y_edited_test, pred_result)\n",
    "    return {\"name\": name, \"f1\": f1, \"acc\": acc, \"pred\": pred}\n",
    "\n",
    "\n",
    "comparison_edited = [compare_model_edited(*args) for args in zip(names, methods)]\n",
    "for c in comparison_edited:\n",
    "    print(f\"Model {c['name']}: f1 is {c['f1']} and accuracy is {c['acc']}\")"
   ]
  },
  {
   "cell_type": "markdown",
   "metadata": {},
   "source": [
    "We see the various metrics are higher than in the previous case! What about the subjective comparison?"
   ]
  },
  {
   "cell_type": "code",
   "execution_count": 35,
   "metadata": {},
   "outputs": [
    {
     "data": {
      "text/plain": [
       "array([False,  True, False, False,  True, False,  True,  True, False,\n",
       "       False])"
      ]
     },
     "metadata": {},
     "output_type": "display_data"
    },
    {
     "data": {
      "text/plain": [
       "0.5"
      ]
     },
     "execution_count": 35,
     "metadata": {},
     "output_type": "execute_result"
    }
   ],
   "source": [
    "pred_log_edited = comparison_edited[1][\"pred\"]\n",
    "rnd_titles_hepth_tfidf_edited = vectorizer.transform(rnd_titles_hepth)\n",
    "rnd_titles_hepth_pred_edited = pred_log_edited.predict(rnd_titles_hepth_tfidf_edited)\n",
    "display(rnd_titles_hepth_pred_edited)\n",
    "\n",
    "[\n",
    "    x[0] == x[1] for x in zip(rnd_titles_hepth_subjective, rnd_titles_hepth_pred_edited)\n",
    "].count(True) / len(rnd_titles_hepth)"
   ]
  },
  {
   "cell_type": "markdown",
   "metadata": {},
   "source": [
    "Somehow it is worse, but once again the subjective test on a sample of 10 titles is not a very representative measure."
   ]
  },
  {
   "cell_type": "code",
   "execution_count": null,
   "metadata": {},
   "outputs": [],
   "source": []
  }
 ],
 "metadata": {
  "kernelspec": {
   "display_name": "zoteroML_py",
   "language": "python",
   "name": "python3"
  },
  "language_info": {
   "codemirror_mode": {
    "name": "ipython",
    "version": 3
   },
   "file_extension": ".py",
   "mimetype": "text/x-python",
   "name": "python",
   "nbconvert_exporter": "python",
   "pygments_lexer": "ipython3",
   "version": "3.10.12"
  }
 },
 "nbformat": 4,
 "nbformat_minor": 2
}
