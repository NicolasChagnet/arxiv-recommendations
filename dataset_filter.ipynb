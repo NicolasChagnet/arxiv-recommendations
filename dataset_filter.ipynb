{
 "cells": [
  {
   "cell_type": "code",
   "execution_count": 1,
   "metadata": {},
   "outputs": [],
   "source": [
    "import pandas as pd\n",
    "import numpy as np\n",
    "import time\n",
    "from utilities import get_random_articles"
   ]
  },
  {
   "cell_type": "code",
   "execution_count": 2,
   "metadata": {},
   "outputs": [],
   "source": [
    "all_df = pd.read_csv(\"data/raw_data.csv\")\n",
    "cited_df = pd.read_csv(\"data/papers_cited.csv\")\n",
    "\n",
    "all_only_articles_df = all_df.loc[all_df[\"Item Type\"] == \"journalArticle\"][\n",
    "    [\"Author\", \"Title\", \"Publication Year\"]\n",
    "]\n",
    "\n",
    "cited_titles = list(cited_df[\"Title\"])\n",
    "all_only_articles_df[\"is_cited_own_paper\"] = all_only_articles_df[\"Title\"].isin(\n",
    "    cited_titles\n",
    ")\n",
    "\n",
    "all_only_articles_df[\"is_of_interest\"] = True"
   ]
  },
  {
   "cell_type": "code",
   "execution_count": 3,
   "metadata": {},
   "outputs": [
    {
     "data": {
      "text/plain": [
       "0"
      ]
     },
     "metadata": {},
     "output_type": "display_data"
    },
    {
     "data": {
      "text/plain": [
       "0"
      ]
     },
     "metadata": {},
     "output_type": "display_data"
    },
    {
     "data": {
      "text/plain": [
       "0"
      ]
     },
     "metadata": {},
     "output_type": "display_data"
    }
   ],
   "source": [
    "display(\n",
    "    all_only_articles_df.loc[all_only_articles_df[\"Publication Year\"].isnull()][\n",
    "        \"Author\"\n",
    "    ].count()\n",
    ")\n",
    "display(\n",
    "    all_only_articles_df.loc[all_only_articles_df[\"Author\"].isnull()][\"Author\"].count()\n",
    ")\n",
    "display(\n",
    "    all_only_articles_df.loc[all_only_articles_df[\"Title\"].isnull()][\"Author\"].count()\n",
    ")"
   ]
  },
  {
   "cell_type": "code",
   "execution_count": 4,
   "metadata": {},
   "outputs": [],
   "source": [
    "all_only_articles_df.columns = [\n",
    "    \"authors\",\n",
    "    \"title\",\n",
    "    \"year\",\n",
    "    \"is_cited_own_paper\",\n",
    "    \"is_of_interest\",\n",
    "]\n",
    "all_only_articles_df[\"year\"] = pd.to_numeric(\n",
    "    all_only_articles_df[\"year\"], downcast=\"integer\"\n",
    ")"
   ]
  },
  {
   "cell_type": "code",
   "execution_count": 5,
   "metadata": {},
   "outputs": [],
   "source": [
    "# This function formats the authors column to match the arXiv API output\n",
    "def format_authors(authors):\n",
    "    l_authors = authors.split(\"; \")\n",
    "    return \"; \".join(\n",
    "        [\" \".join(author.split(\",\")[::-1]).strip() for author in l_authors]\n",
    "    )\n",
    "\n",
    "\n",
    "format_authors(all_only_articles_df.iloc[0][\"authors\"])\n",
    "all_only_articles_df[\"authors\"] = all_only_articles_df[\"authors\"].map(format_authors)"
   ]
  },
  {
   "cell_type": "markdown",
   "metadata": {},
   "source": [
    "I have extracted from my Zotero library various papers I was interested in (papers I cited, papers on TODO lists, etc...). Now I want to get a sample of papers I would not be interested in generically. While not a perfect method, I take a random sample of arxiv papers, picked in my usual categories (hep-th, gr-qc, cond-mat.str-el) with random years (20 by 20), while checking they were not in my collection."
   ]
  },
  {
   "cell_type": "code",
   "execution_count": 6,
   "metadata": {},
   "outputs": [],
   "source": [
    "list_all_titles = list(all_only_articles_df[\"title\"])\n",
    "nextra = all_only_articles_df[\"title\"].count()\n",
    "list_random_articles = []\n",
    "years_sampled = []\n",
    "while len(list_random_articles) < nextra:\n",
    "    ret_rnd = get_random_articles()\n",
    "    if ret_rnd is None:\n",
    "        continue\n",
    "    year, rnd_articles = ret_rnd\n",
    "    years_sampled.append(year)\n",
    "    for rnd_article in rnd_articles:\n",
    "        if rnd_article[\"title\"] not in list_all_titles:\n",
    "            list_random_articles.append(\n",
    "                {\n",
    "                    \"title\": rnd_article[\"title\"],\n",
    "                    \"authors\": \"; \".join(\n",
    "                        [author[\"name\"] for author in rnd_article[\"authors\"]]\n",
    "                    ),\n",
    "                    \"year\": year,\n",
    "                    \"is_cited_own_paper\": False,\n",
    "                    \"is_of_interest\": False,\n",
    "                }\n",
    "            )\n",
    "    time.sleep(1)"
   ]
  },
  {
   "cell_type": "code",
   "execution_count": 7,
   "metadata": {},
   "outputs": [],
   "source": [
    "full_df = pd.DataFrame(all_only_articles_df.to_dict(\"records\") + list_random_articles)\n",
    "idx = pd.Index(np.arange(1, len(full_df) + 1))\n",
    "full_df.index = idx\n",
    "full_df.index.name = \"Ind\"\n",
    "full_df[\"year\"] = pd.to_numeric(full_df[\"year\"], downcast=\"integer\")\n",
    "full_df[\"title\"] = full_df[\"title\"].map(lambda x: x.replace(\"\\n\", \"\"))\n",
    "full_df.to_csv(\"data/zotero_data.csv\")"
   ]
  }
 ],
 "metadata": {
  "kernelspec": {
   "display_name": "zoteroML_py",
   "language": "python",
   "name": "python3"
  },
  "language_info": {
   "codemirror_mode": {
    "name": "ipython",
    "version": 3
   },
   "file_extension": ".py",
   "mimetype": "text/x-python",
   "name": "python",
   "nbconvert_exporter": "python",
   "pygments_lexer": "ipython3",
   "version": "3.10.12"
  }
 },
 "nbformat": 4,
 "nbformat_minor": 2
}
